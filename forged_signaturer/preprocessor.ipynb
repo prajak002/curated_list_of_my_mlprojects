{
  "cells": [
    {
      "cell_type": "code",
      "execution_count": null,
      "metadata": {
        "id": "H63hIyRzeY2m"
      },
      "outputs": [],
      "source": [
        "import cv2\n",
        "import os\n",
        "from tqdm import tqdm\n",
        "from google.colab.patches import cv2_imshow"
      ]
    },
    {
      "cell_type": "code",
      "execution_count": null,
      "metadata": {
        "id": "M0Ds_COpebVw"
      },
      "outputs": [],
      "source": [
        "if not os.path.exists('train_data/'):\n",
        "  os.mkdir('train_data')\n",
        "if not os.path.exists('validation_data/'):\n",
        "  os.mkdir('validation_data')\n",
        "if not os.path.exists('test_data/'):\n",
        "  os.mkdir('test_data')"
      ]
    },
    {
      "cell_type": "code",
      "execution_count": null,
      "metadata": {},
      "outputs": [],
      "source": [
        "drive_path = './drive/MyDrive/dataset/'"
      ]
    },
    {
      "cell_type": "code",
      "execution_count": null,
      "metadata": {
        "id": "2DdxE9IAqW9d"
      },
      "outputs": [],
      "source": [
        "orig_images = []\n",
        "forg_images = []\n",
        "for name in tqdm(sorted(os.listdir(drive_path+'train/'))):\n",
        "    if 'forg' in name.lower():\n",
        "        forg_images.append(len(os.listdir(drive_path+'train/'+name)))\n",
        "    else:\n",
        "        orig_images.append(len(os.listdir(drive_path+'train/'+name)))"
      ]
    },
    {
      "cell_type": "code",
      "execution_count": null,
      "metadata": {},
      "outputs": [],
      "source": [
        "height = []\n",
        "width = []\n",
        "for name in tqdm(os.listdir(drive_path+'train/')):\n",
        "    for image_name in os.listdir(drive_path+'train/'+name):\n",
        "        img = cv2.imread(drive_path+'train/'+name+'/'+image_name)\n",
        "        h, w, _ = img.shape\n",
        "        height.append(h)\n",
        "        width.append(w)"
      ]
    },
    {
      "cell_type": "code",
      "execution_count": null,
      "metadata": {
        "id": "1hcLx59HqbIk"
      },
      "outputs": [],
      "source": [
        "num_orig = min(orig_images)\n",
        "num_forg = min(forg_images)\n",
        "tot_people = len(os.listdir(drive_path+'train/'))//2"
      ]
    },
    {
      "cell_type": "code",
      "execution_count": null,
      "metadata": {},
      "outputs": [],
      "source": [
        "mean_height = int(sum(height)/len(height))\n",
        "mean_width = int(sum(width)/len(width))"
      ]
    },
    {
      "cell_type": "code",
      "execution_count": null,
      "metadata": {
        "id": "dtekyG9mqqiU"
      },
      "outputs": [],
      "source": [
        "num_train = 100\n",
        "num_validation = 14\n",
        "num_test = 100\n",
        "for name in tqdm(sorted(os.listdir(drive_path+'train/'))):\n",
        "    if num_train > 0:\n",
        "        if not os.path.exists('train_data/'+name):\n",
        "          os.mkdir('train_data/'+name)\n",
        "        if 'forg' in name.lower():\n",
        "            i = num_forg\n",
        "        else:\n",
        "            i = num_orig\n",
        "        for image_name in sorted(os.listdir(drive_path+'train/'+name)):\n",
        "            if i <= 0:\n",
        "                break\n",
        "            img = cv2.imread(drive_path+'train/'+name+'/'+image_name)\n",
        "            img_gray = cv2.cvtColor(img, cv2.COLOR_BGR2GRAY)\n",
        "            img_resized = cv2.resize(img_gray, (mean_width, mean_height))\n",
        "            cv2.imwrite('train_data/'+name+'/'+image_name, img_resized)\n",
        "            i -= 1\n",
        "        num_train -= 1\n",
        "    if num_validation > 0:\n",
        "        if not os.path.exists('validation_data/'+name):\n",
        "          os.mkdir('validation_data/'+name)\n",
        "        if 'forg' in name.lower():\n",
        "            i = num_forg\n",
        "        else:\n",
        "            i = num_orig\n",
        "        for image_name in sorted(os.listdir(drive_path+'train/'+name)):\n",
        "            if i <= 0:\n",
        "                break\n",
        "            img = cv2.imread(drive_path+'train/'+name+'/'+image_name)\n",
        "            img_gray = cv2.cvtColor(img, cv2.COLOR_BGR2GRAY)\n",
        "            img_resized = cv2.resize(img_gray, (mean_width, mean_height))\n",
        "            cv2.imwrite('validation_data/'+name+'/'+image_name, img_resized)\n",
        "            i -= 1\n",
        "        num_validation -= 1\n",
        "    if num_test > 0:\n",
        "        if not os.path.exists('test_data/'+name):\n",
        "          os.mkdir('test_data/'+name)\n",
        "        if 'forg' in name.lower():\n",
        "            i = num_forg\n",
        "        else:\n",
        "            i = num_orig\n",
        "        for image_name in sorted(os.listdir(drive_path+'test/'+name)):\n",
        "            if i <= 0:\n",
        "                break\n",
        "            img = cv2.imread(drive_path+'test/'+name+'/'+image_name)\n",
        "            img_gray = cv2.cvtColor(img, cv2.COLOR_BGR2GRAY)\n",
        "            img_resized = cv2.resize(img_gray, (mean_width, mean_height))\n",
        "            cv2.imwrite('test_data/'+name+'/'+image_name, img_resized)\n",
        "            i -= 1\n",
        "        num_test -= 1"
      ]
    }
  ],
  "metadata": {
    "colab": {
      "provenance": []
    },
    "kernelspec": {
      "display_name": "Python 3",
      "name": "python3"
    },
    "language_info": {
      "name": "python"
    }
  },
  "nbformat": 4,
  "nbformat_minor": 0
}
